{
  "nbformat": 4,
  "nbformat_minor": 0,
  "metadata": {
    "colab": {
      "name": "Algorithm.ipynb",
      "provenance": [],
      "collapsed_sections": [],
      "authorship_tag": "ABX9TyMNPG/RS2rzzSdYrztf9K0g",
      "include_colab_link": true
    },
    "kernelspec": {
      "name": "python3",
      "display_name": "Python 3"
    }
  },
  "cells": [
    {
      "cell_type": "markdown",
      "metadata": {
        "id": "view-in-github",
        "colab_type": "text"
      },
      "source": [
        "<a href=\"https://colab.research.google.com/github/feelmawon/Algorithm-Basic/blob/main/Algorithm.ipynb\" target=\"_parent\"><img src=\"https://colab.research.google.com/assets/colab-badge.svg\" alt=\"Open In Colab\"/></a>"
      ]
    },
    {
      "cell_type": "markdown",
      "metadata": {
        "id": "oSE0Ik4owBVu"
      },
      "source": [
        "# 4. 자료구조"
      ]
    },
    {
      "cell_type": "markdown",
      "metadata": {
        "id": "YuqU8Ge79NnQ"
      },
      "source": [
        "## 4.1 선형 자료구조\r\n",
        "### 4.1.1 랜덤 접근 가능"
      ]
    },
    {
      "cell_type": "code",
      "metadata": {
        "id": "Ria1YeVkwAE1"
      },
      "source": [
        "# 배열\r\n",
        "\r\n",
        "array1 = []\r\n",
        "array2 = [0, 1, 2, 3, 4]\r\n",
        "array3 = [[1, 2, 3], [4, 5, 6], [7, 8, 9]]"
      ],
      "execution_count": null,
      "outputs": []
    },
    {
      "cell_type": "code",
      "metadata": {
        "id": "7G3NvZT9wOF-"
      },
      "source": [
        "# 해시 (딕셔너리)\r\n",
        "\r\n",
        "dict1 = {1:\"하나\", \"appple\":\"사과\", \"리스트\":[1, 2, 3]}"
      ],
      "execution_count": null,
      "outputs": []
    },
    {
      "cell_type": "code",
      "metadata": {
        "id": "duBFe_N3wXFO"
      },
      "source": [
        "# 스택\r\n",
        "# 먼저 들어간 자료가 나중에 나오는 자료구조 \r\n",
        "\r\n",
        "class stack:\r\n",
        "  def __init__(self):\r\n",
        "    self.items = []\r\n",
        "\r\n",
        "  def isEmpty(self):\r\n",
        "    return self.items == []\r\n",
        "\r\n",
        "  def push(self, item):\r\n",
        "    self.items.append(item)\r\n",
        "\r\n",
        "  def peek(self):\r\n",
        "    return self.items[-1]\r\n",
        "\r\n",
        "  def size(self):\r\n",
        "    return len(self.items)\r\n",
        "\r\n",
        "  def pop(self):\r\n",
        "    return self.items.pop()"
      ],
      "execution_count": 1,
      "outputs": []
    },
    {
      "cell_type": "code",
      "metadata": {
        "id": "-vBfjV-v12_B"
      },
      "source": [
        "def reverseString(str):\r\n",
        "  s = stack()\r\n",
        "  result = \"\"\r\n",
        "  for i in str:\r\n",
        "    s.push(i)\r\n",
        "  while s.isEmpty() != True:\r\n",
        "    result += s.pop()\r\n",
        "  return result"
      ],
      "execution_count": 2,
      "outputs": []
    },
    {
      "cell_type": "code",
      "metadata": {
        "colab": {
          "base_uri": "https://localhost:8080/"
        },
        "id": "ZZiKp6XV2KtK",
        "outputId": "e70c791d-3480-476f-e972-4a3c63db8afc"
      },
      "source": [
        "print(reverseString(\"apple\"))"
      ],
      "execution_count": 3,
      "outputs": [
        {
          "output_type": "stream",
          "text": [
            "elppa\n"
          ],
          "name": "stdout"
        }
      ]
    },
    {
      "cell_type": "code",
      "metadata": {
        "id": "Ok7dP9Ue2NjE"
      },
      "source": [
        "# 큐\r\n",
        "# 먼저 들어간 자료가 먼저 나오는 자료구조 \r\n",
        "# 자료를 넣는 Enqueue, 빼내는 Dequeue\r\n",
        "\r\n",
        "class queue:\r\n",
        "  def __init__(self):\r\n",
        "    self.items = []\r\n",
        "\r\n",
        "  def enqueue(self, item):\r\n",
        "    self.items.insert(0, item)\r\n",
        "\r\n",
        "  def dequeue(self):\r\n",
        "    return self.items.pop()\r\n",
        "\r\n",
        "  def isEmpty(self):\r\n",
        "    return self.items == []\r\n",
        "\r\n",
        "  def size(self):\r\n",
        "    return len(self.items)"
      ],
      "execution_count": null,
      "outputs": []
    },
    {
      "cell_type": "markdown",
      "metadata": {
        "id": "uExhTAND9WbW"
      },
      "source": [
        "### 4.1.3 선형구조 자료 탐새색법"
      ]
    },
    {
      "cell_type": "code",
      "metadata": {
        "id": "PRlYu2sW2U0N"
      },
      "source": [
        "# 이분 탐색\r\n",
        "# O(log_2 N)\r\n",
        "# 중앙값 탐색 \r\n"
      ],
      "execution_count": null,
      "outputs": []
    },
    {
      "cell_type": "markdown",
      "metadata": {
        "id": "ra2jrDm_-0rg"
      },
      "source": [
        "## 4.2 비선형 자료구조"
      ]
    },
    {
      "cell_type": "markdown",
      "metadata": {
        "id": "yYaMCrQ2_BcI"
      },
      "source": [
        "### 4.2.1 그래프\r\n",
        "#### 4.2.1.3.1 그래프 순회 알고리즘"
      ]
    },
    {
      "cell_type": "code",
      "metadata": {
        "id": "6N4Sp_WW-0QQ"
      },
      "source": [
        "# 깊이 우선 탐색 (DFS)\r\n",
        "# 방문한 정점으로부터 깊게 들어가며 쭉 탐색한 수 되돌아 나오다가 아직 탐색하지 않은 노드 탐색\r\n",
        "# 깊이가 너무 큰 경우 런타임 에러 \r\n",
        "\r\n",
        "visited = dict(zip([v for v G], [False for _ in G])) # 방문 여부 체크하는거래.. 그렇다는데... \r\n",
        "\r\n",
        "def dfs(v): # v 부터 탐색 시작\r\n",
        "  for i in G[v]:\r\n",
        "    if not visited[i]:\r\n",
        "      visited[i] = True\r\n",
        "      dfs(i)\r\n",
        "\r\n",
        "# 무슨 말인지 모르겠음? ㅎㅎ?\r\n",
        "# 그래서 다른 사람 구현 \r\n",
        "\r\n",
        "def DFS(start_node):\r\n",
        "  stack = [start_node, ]\r\n",
        "\r\n",
        "  while True:\r\n",
        "    if len(stack) == 0:\r\n",
        "      print('All node searched.')\r\n",
        "      return None\r\n",
        "\r\n",
        "    node = stack.pop()\r\n",
        "\r\n",
        "    if node == TARGET:\r\n",
        "      print('The target found.')\r\n",
        "      return node\r\n",
        "\r\n",
        "    children = expand(node)\r\n",
        "    stack.extend(children)"
      ],
      "execution_count": null,
      "outputs": []
    },
    {
      "cell_type": "code",
      "metadata": {
        "id": "xlJmpojW2VHL"
      },
      "source": [
        "# 너비 우선 탐색 (BFS) \r\n",
        "# 첫 정점을 방문하고 아직 방문 안 한 정점을 큐에넣고 순서대로 방문, 다시 인접 정점으로 큐 구성 \r\n",
        "\r\n",
        "visited = dict(zip([v for v in G], [False for _ in G]))\r\n",
        "\r\n",
        "def bfs(v): \r\n",
        "  visited[v] = True\r\n",
        "  queue = [v]\r\n",
        "  while queue:\r\n",
        "    now = queue.pop(0)\r\n",
        "    for i in G[now]: # 현재 선택된 정점의 모든 자식 정점 방문\r\n",
        "      if not visited[i]:\r\n",
        "        visited[i] = True\r\n",
        "        queue.qppend(i)\r\n"
      ],
      "execution_count": null,
      "outputs": []
    },
    {
      "cell_type": "code",
      "metadata": {
        "id": "Z32nswtR2VOt"
      },
      "source": [
        ""
      ],
      "execution_count": null,
      "outputs": []
    },
    {
      "cell_type": "code",
      "metadata": {
        "id": "hPGF-fPc2VWg"
      },
      "source": [
        ""
      ],
      "execution_count": null,
      "outputs": []
    },
    {
      "cell_type": "code",
      "metadata": {
        "id": "nIjuAyo52Vl-"
      },
      "source": [
        ""
      ],
      "execution_count": null,
      "outputs": []
    }
  ]
}